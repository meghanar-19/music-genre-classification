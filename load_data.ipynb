{
 "cells": [
  {
   "cell_type": "code",
   "execution_count": 1,
   "metadata": {},
   "outputs": [],
   "source": [
    "import numpy as np\n",
    "\n",
    "def loadall(filename=''):\n",
    "    tmp = np.load(filename)\n",
    "    x_tr = tmp['x_tr']\n",
    "    y_tr = tmp['y_tr']\n",
    "    x_te = tmp['x_te']\n",
    "    y_te = tmp['y_te']\n",
    "    x_cv = tmp['x_cv']\n",
    "    y_cv = tmp['y_cv']\n",
    "    return {'x_tr' : x_tr, 'y_tr' : y_tr,\n",
    "            'x_te' : x_te, 'y_te' : y_te,\n",
    "            'x_cv' : x_cv, 'y_cv' : y_cv, }\n"
   ]
  },
  {
   "cell_type": "code",
   "execution_count": null,
   "metadata": {},
   "outputs": [],
   "source": []
  }
 ],
 "metadata": {
  "kernelspec": {
   "display_name": "Python 3",
   "language": "python",
   "name": "python3"
  },
  "language_info": {
   "codemirror_mode": {
    "name": "ipython",
    "version": 3
   },
   "file_extension": ".py",
   "mimetype": "text/x-python",
   "name": "python",
   "nbconvert_exporter": "python",
   "pygments_lexer": "ipython3",
   "version": "3.6.4"
  }
 },
 "nbformat": 4,
 "nbformat_minor": 2
}
