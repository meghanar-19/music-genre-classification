{
 "cells": [
  {
   "cell_type": "code",
   "execution_count": 1,
   "metadata": {},
   "outputs": [],
   "source": [
    "import numpy as np\n",
    "from ipynb.fs.full.load_data import loadall\n",
    "from sklearn import svm\n",
    "from sklearn.preprocessing import StandardScaler\n",
    "from sklearn.decomposition import PCA"
   ]
  },
  {
   "cell_type": "code",
   "execution_count": 2,
   "metadata": {},
   "outputs": [],
   "source": [
    "data = loadall('melspects.npz')\n",
    "x_tr = data['x_tr']\n",
    "y_tr = data['y_tr']\n",
    "x_te = data['x_te']\n",
    "y_te = data['y_te']\n",
    "x_cv = data['x_cv']\n",
    "y_cv = data['y_cv']"
   ]
  },
  {
   "cell_type": "code",
   "execution_count": 4,
   "metadata": {},
   "outputs": [
    {
     "name": "stdout",
     "output_type": "stream",
     "text": [
      "x_tr shape: (8000, 64, 173)\n"
     ]
    }
   ],
   "source": [
    "print('x_tr shape:', x_tr.shape)"
   ]
  },
  {
   "cell_type": "code",
   "execution_count": 5,
   "metadata": {},
   "outputs": [],
   "source": [
    "x_tr = x_tr.reshape(x_tr.shape[0], x_tr.shape[1]*x_tr.shape[2])\n",
    "x_cv = x_cv.reshape(x_cv.shape[0], x_cv.shape[1]*x_cv.shape[2])\n",
    "x_te = x_te.reshape(x_te.shape[0], x_te.shape[1]*x_te.shape[2])\n"
   ]
  },
  {
   "cell_type": "code",
   "execution_count": 6,
   "metadata": {},
   "outputs": [],
   "source": [
    "scaler = StandardScaler()\n",
    "scaler.fit(x_tr)\n",
    "train_sc = scaler.transform(x_tr)\n",
    "cv_sc = scaler.transform(x_cv)\n",
    "test_sc = scaler.transform(x_te)"
   ]
  },
  {
   "cell_type": "code",
   "execution_count": 7,
   "metadata": {},
   "outputs": [],
   "source": [
    "pca = PCA(n_components = 15)\n",
    "pca.fit(train_sc)\n",
    "\n",
    "train_pca = pca.transform(train_sc)\n",
    "cv_pca = pca.transform(cv_sc)\n",
    "test_pca = pca.transform(test_sc)"
   ]
  },
  {
   "cell_type": "code",
   "execution_count": 27,
   "metadata": {},
   "outputs": [
    {
     "name": "stdout",
     "output_type": "stream",
     "text": [
      "[LibSVM]"
     ]
    },
    {
     "data": {
      "text/plain": [
       "SVC(C=1.0, cache_size=200, class_weight=None, coef0=0.0,\n",
       "  decision_function_shape='ovr', degree=3, gamma=0.001, kernel='rbf',\n",
       "  max_iter=-1, probability=False, random_state=None, shrinking=True,\n",
       "  tol=0.001, verbose=True)"
      ]
     },
     "execution_count": 27,
     "metadata": {},
     "output_type": "execute_result"
    }
   ],
   "source": [
    "classifier = svm.SVC(gamma=0.001,verbose=True)\n",
    "classifier.fit(train_pca, y_tr)\n"
   ]
  },
  {
   "cell_type": "code",
   "execution_count": 28,
   "metadata": {},
   "outputs": [],
   "source": [
    "train_preds = classifier.predict(train_pca)\n",
    "train_acc = np.sum(train_preds == y_tr)\n",
    "train_acc = train_acc / len(y_tr)"
   ]
  },
  {
   "cell_type": "code",
   "execution_count": 29,
   "metadata": {},
   "outputs": [],
   "source": [
    "cv_preds = classifier.predict(cv_pca)\n",
    "cv_acc = np.sum(cv_preds == y_cv)\n",
    "cv_acc = cv_acc / len(y_cv)"
   ]
  },
  {
   "cell_type": "code",
   "execution_count": 30,
   "metadata": {},
   "outputs": [],
   "source": [
    "test_preds = classifier.predict(test_pca)\n",
    "test_acc = np.sum(test_preds == y_te)\n",
    "test_acc = test_acc / len(y_te)"
   ]
  },
  {
   "cell_type": "code",
   "execution_count": 31,
   "metadata": {},
   "outputs": [
    {
     "name": "stdout",
     "output_type": "stream",
     "text": [
      "Train:  0.824875 \tCV:  0.6 \tTest:  0.58\n"
     ]
    }
   ],
   "source": [
    "print('Train: ', train_acc, \"\\tCV: \", cv_acc, \"\\tTest: \", test_acc)"
   ]
  }
 ],
 "metadata": {
  "kernelspec": {
   "display_name": "Python 3",
   "language": "python",
   "name": "python3"
  },
  "language_info": {
   "codemirror_mode": {
    "name": "ipython",
    "version": 3
   },
   "file_extension": ".py",
   "mimetype": "text/x-python",
   "name": "python",
   "nbconvert_exporter": "python",
   "pygments_lexer": "ipython3",
   "version": "3.6.4"
  }
 },
 "nbformat": 4,
 "nbformat_minor": 2
}
