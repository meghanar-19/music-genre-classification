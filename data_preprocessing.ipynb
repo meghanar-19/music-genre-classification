{
 "cells": [
  {
   "cell_type": "code",
   "execution_count": 1,
   "metadata": {},
   "outputs": [
    {
     "ename": "ModuleNotFoundError",
     "evalue": "No module named 'librosa'",
     "output_type": "error",
     "traceback": [
      "\u001b[1;31m---------------------------------------------------------------------------\u001b[0m",
      "\u001b[1;31mModuleNotFoundError\u001b[0m                       Traceback (most recent call last)",
      "\u001b[1;32m<ipython-input-1-6c05d3c31265>\u001b[0m in \u001b[0;36m<module>\u001b[1;34m()\u001b[0m\n\u001b[0;32m      1\u001b[0m \u001b[1;32mimport\u001b[0m \u001b[0mnumpy\u001b[0m \u001b[1;32mas\u001b[0m \u001b[0mnp\u001b[0m\u001b[1;33m\u001b[0m\u001b[0m\n\u001b[1;32m----> 2\u001b[1;33m \u001b[1;32mimport\u001b[0m \u001b[0mlibrosa\u001b[0m \u001b[1;32mas\u001b[0m \u001b[0mlb\u001b[0m\u001b[1;33m\u001b[0m\u001b[0m\n\u001b[0m\u001b[0;32m      3\u001b[0m \u001b[1;32mimport\u001b[0m \u001b[0mmatplotlib\u001b[0m\u001b[1;33m.\u001b[0m\u001b[0mpyplot\u001b[0m \u001b[1;32mas\u001b[0m \u001b[0mplt\u001b[0m\u001b[1;33m\u001b[0m\u001b[0m\n\u001b[0;32m      4\u001b[0m \u001b[1;32mimport\u001b[0m \u001b[0mpandas\u001b[0m \u001b[1;32mas\u001b[0m \u001b[0mpd\u001b[0m\u001b[1;33m\u001b[0m\u001b[0m\n",
      "\u001b[1;31mModuleNotFoundError\u001b[0m: No module named 'librosa'"
     ]
    }
   ],
   "source": [
    "import numpy as np\n",
    "import librosa as lb \n",
    "import matplotlib.pyplot as plt\n",
    "import pandas as pd"
   ]
  },
  {
   "cell_type": "code",
   "execution_count": 2,
   "metadata": {},
   "outputs": [],
   "source": [
    "SR = 22050\n",
    "N_FFT = 512\n",
    "HOP_LENGTH = N_FFT // 2\n",
    "N_MELS = 64 \n"
   ]
  },
  {
   "cell_type": "code",
   "execution_count": 3,
   "metadata": {},
   "outputs": [],
   "source": [
    "def log_melspectrogram(data, log=True, plot=False, num='', genre=\"\"):\n",
    "\n",
    "    melspec = lb.feature.melspectrogram(y=data, hop_length = HOP_LENGTH, n_fft = N_FFT, n_mels = N_MELS)\n",
    "\n",
    "    if log:\n",
    "        melspec = lb.power_to_db(melspec**2)\n",
    "\n",
    "    if plot:\n",
    "        melspec = melspec[np.newaxis, :]\n",
    "        plt.imshow(melspec.reshape((melspec.shape[1],melspec.shape[2])))\n",
    "        plt.savefig('melspec'+str(num)+'_'+str(genre)+'.png')\n",
    "\n",
    "    return melspec\n",
    "\n",
    "def batch_log_melspectrogram(data_list, log=True, plot=False):\n",
    "    melspecs = np.asarray([log_melspectrogram(data_list[i],log=log,plot=plot) for i in range(len(data_list))])\n",
    "    #this line may or may not be neccesary idk\n",
    "    # melspecs = melspecs.reshape(melspecs.shape[0], melspecs.shape[1], melspecs.shape[2], 1)\n",
    "    return melspecs"
   ]
  },
  {
   "cell_type": "code",
   "execution_count": 4,
   "metadata": {},
   "outputs": [],
   "source": [
    "training = np.load('gtzan_tr.npy')\n",
    "data_training=pd.DataFrame(data=training[:,0:44100])\n",
    "data_tr=data_training.values\n",
    "label_tr = training[:,-1]\n",
    "spects_tr = batch_log_melspectrogram(data_tr)"
   ]
  },
  {
   "cell_type": "code",
   "execution_count": 11,
   "metadata": {},
   "outputs": [],
   "source": [
    "testing = np.load('gtzan_te.npy')\n",
    "data_testing=pd.DataFrame(data=testing[:,0:44100])\n",
    "data_te=data_testing.values\n",
    "label_te = testing[:,-1]\n",
    "spects_te = batch_log_melspectrogram(data_te)\n"
   ]
  },
  {
   "cell_type": "code",
   "execution_count": 12,
   "metadata": {},
   "outputs": [],
   "source": [
    "crossval = np.load('gtzan_cv.npy')\n",
    "data_crossval=pd.DataFrame(data=crossval[:,0:44100])\n",
    "data_cv=data_crossval.values\n",
    "label_cv = crossval[:,-1]\n",
    "spects_cv = batch_log_melspectrogram(data_cv)\n"
   ]
  },
  {
   "cell_type": "code",
   "execution_count": 18,
   "metadata": {},
   "outputs": [
    {
     "name": "stdout",
     "output_type": "stream",
     "text": [
      "Saving to ./melspects.npz\n",
      "Done\n"
     ]
    }
   ],
   "source": [
    "print(\"Saving to ./melspects.npz\")\n",
    "np.savez(\"melspects.npz\", x_tr=spects_tr, y_tr=label_tr, x_te=spects_te, y_te=label_te, x_cv=spects_cv, y_cv=label_cv)\n",
    "print(\"Done\")\n"
   ]
  }
 ],
 "metadata": {
  "kernelspec": {
   "display_name": "Python 3",
   "language": "python",
   "name": "python3"
  }
 },
 "nbformat": 4,
 "nbformat_minor": 2
}
